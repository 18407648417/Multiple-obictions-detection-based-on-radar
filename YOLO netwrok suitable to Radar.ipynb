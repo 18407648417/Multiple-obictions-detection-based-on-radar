{
 "cells": [
  {
   "cell_type": "code",
   "execution_count": 5,
   "metadata": {},
   "outputs": [],
   "source": [
    "import torch\n",
    "from torch import nn, optim\n",
    "import torch.utils.data as Data\n",
    "import numpy as np\n",
    "import torchvision\n",
    "import pandas as pd\n",
    "import torch.nn.functional as F\n",
    "import matplotlib.pyplot as plt\n",
    "\n",
    "class YOLO_CNN(nn.Module):\n",
    "    def __init__(self):\n",
    "        super(CNN,self).__init__()\n",
    "        self.conv1 = nn.Conv1d(in_channels=3,  # 输入图片的channel，灰度图像为1，彩色图像为3\n",
    "                              out_channels=16, # 可以理解为卷积核的个数，也就是输出的channel\n",
    "                              kernel_size=3,   # 卷积核的大小(3*3)\n",
    "                              stride=1,        # 步长\n",
    "                              padding=1)       \n",
    "        self.conv2 = nn.Conv1d(in_channels=16,\n",
    "                               out_channels=32,\n",
    "                               kernel_size=3,\n",
    "                               stride=1,\n",
    "                               padding=1)\n",
    "        self.conv3 = nn.Conv1d(in_channels=32,\n",
    "                               out_channels=64,\n",
    "                               kernel_size=3,\n",
    "                               stride=1,\n",
    "                               padding=1)\n",
    "        self.fc1 = nn.Linear(960,256)  # 全连接层, 输出为 72 类\n",
    "        self.fc2 = nn.Linear(256,128)\n",
    "        self.fc3 = nn.Linear(128,44)\n",
    "        self.dropout = nn.Dropout(0.3)\n",
    "        \n",
    "    def forward(self,x):\n",
    "        x = F.max_pool1d(F.relu(self.conv1(x)),2)  # (3,121)-->(16,16,16)-->(16,8,8)\n",
    "        \n",
    "        \n",
    "        x = F.max_pool1d(F.relu(self.conv2(x)),2)  # (16,8,8)-->(32,8,8)-->(32,4,4)\n",
    "        \n",
    "        \n",
    "        x = F.max_pool1d(F.relu(self.conv3(x)),2)  # (32,4,4)-->(64,4,4)-->(64,2,2)\n",
    "        \n",
    "        \n",
    "        x = x.view(x.size(0),-1)                   # 展平为一维数据 (batch_size, 64 * 2 * 2)\n",
    "        #print(x.shape)\n",
    "        x = F.relu(self.fc1(x))                    \n",
    "        x = F.relu(self.fc2(x))\n",
    "        x = self.fc3(x)\n",
    "        x = self.dropout(x)\n",
    "\n",
    "        return x\n",
    "    \n",
    "class YOLO_Loss(nn.Module):\n",
    "\n",
    "    def __init__(self):\n",
    "        super().__init__()\n",
    "\n",
    "    def forward(self, x, y):\n",
    "\n",
    "        return torch.sum(torch.pow((x - y), 2))"
   ]
  },
  {
   "cell_type": "code",
   "execution_count": null,
   "metadata": {},
   "outputs": [],
   "source": []
  }
 ],
 "metadata": {
  "kernelspec": {
   "display_name": "Python 3",
   "language": "python",
   "name": "python3"
  },
  "language_info": {
   "codemirror_mode": {
    "name": "ipython",
    "version": 3
   },
   "file_extension": ".py",
   "mimetype": "text/x-python",
   "name": "python",
   "nbconvert_exporter": "python",
   "pygments_lexer": "ipython3",
   "version": "3.7.6"
  }
 },
 "nbformat": 4,
 "nbformat_minor": 4
}
